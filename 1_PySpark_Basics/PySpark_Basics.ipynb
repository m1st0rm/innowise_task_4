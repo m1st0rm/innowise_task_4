{
 "cells": [
  {
   "cell_type": "markdown",
   "id": "trained-moses",
   "metadata": {},
   "source": [
    "import libraries(I provide all libs that I need when make this tasks, if you need some external import them here)"
   ]
  },
  {
   "cell_type": "code",
   "id": "induced-african",
   "metadata": {
    "ExecuteTime": {
     "end_time": "2024-09-30T15:31:12.095946Z",
     "start_time": "2024-09-30T15:31:12.017916Z"
    }
   },
   "source": [
    "import pyspark\n",
    "from pyspark.sql import SparkSession\n",
    "from pyspark.sql.types import StructType, StructField, IntegerType, StringType\n",
    "from pyspark.sql.functions import col\n",
    "from pyspark.sql.functions import max, avg, min\n",
    "from pyspark.sql.window import Window\n",
    "from pyspark.sql.functions import row_number\n",
    "from pyspark.sql.functions import when"
   ],
   "outputs": [],
   "execution_count": 1
  },
  {
   "cell_type": "markdown",
   "id": "permanent-photographer",
   "metadata": {},
   "source": [
    "create local SparkSession"
   ]
  },
  {
   "cell_type": "code",
   "id": "stock-partnership",
   "metadata": {
    "ExecuteTime": {
     "end_time": "2024-09-30T15:31:20.451252Z",
     "start_time": "2024-09-30T15:31:15.761334Z"
    }
   },
   "source": [
    "spark_session = (SparkSession.builder\n",
    "    .appName(\"Local PySpark Application\")\n",
    "    .master(\"local[*]\")\n",
    "    .getOrCreate())\n",
    "print(spark_session.version)"
   ],
   "outputs": [
    {
     "name": "stdout",
     "output_type": "stream",
     "text": [
      "3.5.3\n"
     ]
    }
   ],
   "execution_count": 2
  },
  {
   "cell_type": "markdown",
   "id": "juvenile-blame",
   "metadata": {},
   "source": [
    "read csv with inferschema"
   ]
  },
  {
   "cell_type": "code",
   "id": "computational-liverpool",
   "metadata": {
    "ExecuteTime": {
     "end_time": "2024-09-30T15:09:43.427067Z",
     "start_time": "2024-09-30T15:09:37.441290Z"
    }
   },
   "source": [
    "%%time\n",
    "df_1 = spark_session.read.csv(\"data/ds_salaries.csv\", header=True, inferSchema=True)"
   ],
   "outputs": [
    {
     "name": "stdout",
     "output_type": "stream",
     "text": [
      "CPU times: total: 15.6 ms\n",
      "Wall time: 5.98 s\n"
     ]
    }
   ],
   "execution_count": 3
  },
  {
   "cell_type": "markdown",
   "id": "stopped-dominant",
   "metadata": {},
   "source": [
    "read csv one more time with the same code and you will see that it almostly don't take time, because info already in SparkSession and it will not read nothing\n",
    "from this file"
   ]
  },
  {
   "cell_type": "code",
   "id": "aging-neighborhood",
   "metadata": {
    "ExecuteTime": {
     "end_time": "2024-09-30T15:09:45.393987Z",
     "start_time": "2024-09-30T15:09:45.159882Z"
    }
   },
   "source": [
    "%%time\n",
    "df_2 = spark_session.read.csv(\"data/ds_salaries.csv\", header=True, inferSchema=True)"
   ],
   "outputs": [
    {
     "name": "stdout",
     "output_type": "stream",
     "text": [
      "CPU times: total: 0 ns\n",
      "Wall time: 230 ms\n"
     ]
    }
   ],
   "execution_count": 4
  },
  {
   "cell_type": "markdown",
   "id": "mature-tomorrow",
   "metadata": {},
   "source": [
    "write schema of scv on screen"
   ]
  },
  {
   "cell_type": "code",
   "id": "least-communications",
   "metadata": {
    "ExecuteTime": {
     "end_time": "2024-09-30T15:10:27.183714Z",
     "start_time": "2024-09-30T15:10:27.177714Z"
    }
   },
   "source": "df_1.printSchema()",
   "outputs": [
    {
     "name": "stdout",
     "output_type": "stream",
     "text": [
      "root\n",
      " |-- _c0: integer (nullable = true)\n",
      " |-- work_year: integer (nullable = true)\n",
      " |-- experience_level: string (nullable = true)\n",
      " |-- employment_type: string (nullable = true)\n",
      " |-- job_title: string (nullable = true)\n",
      " |-- salary: integer (nullable = true)\n",
      " |-- salary_currency: string (nullable = true)\n",
      " |-- salary_in_usd: integer (nullable = true)\n",
      " |-- employee_residence: string (nullable = true)\n",
      " |-- remote_ratio: integer (nullable = true)\n",
      " |-- company_location: string (nullable = true)\n",
      " |-- company_size: string (nullable = true)\n",
      "\n"
     ]
    }
   ],
   "execution_count": 5
  },
  {
   "cell_type": "markdown",
   "id": "connected-brother",
   "metadata": {},
   "source": [
    "create schema of this scv"
   ]
  },
  {
   "cell_type": "code",
   "id": "progressive-dictionary",
   "metadata": {
    "ExecuteTime": {
     "end_time": "2024-09-30T15:31:33.242924Z",
     "start_time": "2024-09-30T15:31:33.237832Z"
    }
   },
   "source": [
    "ds_salaries_schema = StructType([\n",
    "    StructField(\"id\", IntegerType(), nullable=True),\n",
    "    StructField(\"work_year\", IntegerType(), nullable=True),\n",
    "    StructField(\"experience_level\", StringType(), nullable=True),\n",
    "    StructField(\"employment_type\", StringType(), nullable=True),\n",
    "    StructField(\"job_title\", StringType(), nullable=True),\n",
    "    StructField(\"salary\", IntegerType(), nullable=True),\n",
    "    StructField(\"salary_currency\", StringType(), nullable=True),\n",
    "    StructField(\"salary_in_usd\", IntegerType(), nullable=True),\n",
    "    StructField(\"employee_residence\", StringType(), nullable=True),\n",
    "    StructField(\"remore_ratio\", IntegerType(), nullable=True),\n",
    "    StructField(\"company_location\", StringType(), nullable=True),\n",
    "    StructField(\"company_size\", StringType(), nullable=True),\n",
    "])"
   ],
   "outputs": [],
   "execution_count": 3
  },
  {
   "cell_type": "markdown",
   "id": "auburn-sauce",
   "metadata": {},
   "source": [
    "restart kernel without cleaning output and after restarting you need to initialize SparkSession, after initialize start execute only cells from cell with schema=\n",
    "=StructType.... \n",
    "To restart kernel click Kernel, Restart."
   ]
  },
  {
   "cell_type": "markdown",
   "id": "artistic-hospital",
   "metadata": {},
   "source": [
    "read ds_salaries with predefined schema and compare results from this cell and cell with inferSchema"
   ]
  },
  {
   "cell_type": "code",
   "id": "literary-plaintiff",
   "metadata": {
    "ExecuteTime": {
     "end_time": "2024-09-30T15:31:39.632612Z",
     "start_time": "2024-09-30T15:31:37.307486Z"
    }
   },
   "source": [
    "%%time\n",
    "df3 = spark_session.read.csv(\"data/ds_salaries.csv\", schema=ds_salaries_schema)"
   ],
   "outputs": [
    {
     "name": "stdout",
     "output_type": "stream",
     "text": [
      "CPU times: total: 0 ns\n",
      "Wall time: 2.32 s\n"
     ]
    }
   ],
   "execution_count": 4
  },
  {
   "cell_type": "markdown",
   "id": "senior-joint",
   "metadata": {},
   "source": [
    "this happens because read operation is lazy(transformation), but if you use inferschema it start to be action that will create Spark Job, because Spark need to loop throw all file to check datatypes for all columns and this can harm to your code(if we compare to parquet, it will also go to check data types, but parquet provide meta information, so Spark will not go throw all file, he will just read meta information, but csv don't provide such meta information). Also header make Spark to create one more Spark Job to check first line\n",
    "to define name of columns and remember to skeep it when reading. Actual reading start when you will use first action. More about Spark Jobs you will see in next topic"
   ]
  },
  {
   "cell_type": "markdown",
   "id": "underlying-assurance",
   "metadata": {},
   "source": [
    "write schema of scv on screen one more time and compare with previous"
   ]
  },
  {
   "cell_type": "code",
   "id": "solid-infection",
   "metadata": {
    "ExecuteTime": {
     "end_time": "2024-09-30T15:41:42.083091Z",
     "start_time": "2024-09-30T15:41:42.075465Z"
    }
   },
   "source": "df3.printSchema()",
   "outputs": [
    {
     "name": "stdout",
     "output_type": "stream",
     "text": [
      "root\n",
      " |-- id: integer (nullable = true)\n",
      " |-- work_year: integer (nullable = true)\n",
      " |-- experience_level: string (nullable = true)\n",
      " |-- employment_type: string (nullable = true)\n",
      " |-- job_title: string (nullable = true)\n",
      " |-- salary: integer (nullable = true)\n",
      " |-- salary_currency: string (nullable = true)\n",
      " |-- salary_in_usd: integer (nullable = true)\n",
      " |-- employee_residence: string (nullable = true)\n",
      " |-- remore_ratio: integer (nullable = true)\n",
      " |-- company_location: string (nullable = true)\n",
      " |-- company_size: string (nullable = true)\n",
      "\n"
     ]
    }
   ],
   "execution_count": 5
  },
  {
   "cell_type": "markdown",
   "id": "close-water",
   "metadata": {},
   "source": [
    "now continue to work with one of the dataframes that you create"
   ]
  },
  {
   "cell_type": "markdown",
   "id": "piano-belgium",
   "metadata": {},
   "source": [
    "print data in dataframe using df.show"
   ]
  },
  {
   "cell_type": "code",
   "id": "legendary-alarm",
   "metadata": {
    "ExecuteTime": {
     "end_time": "2024-09-30T15:43:00.284927Z",
     "start_time": "2024-09-30T15:42:56.906609Z"
    }
   },
   "source": "df3.show()",
   "outputs": [
    {
     "name": "stdout",
     "output_type": "stream",
     "text": [
      "+----+---------+----------------+---------------+--------------------+--------+---------------+-------------+------------------+------------+----------------+------------+\n",
      "|  id|work_year|experience_level|employment_type|           job_title|  salary|salary_currency|salary_in_usd|employee_residence|remore_ratio|company_location|company_size|\n",
      "+----+---------+----------------+---------------+--------------------+--------+---------------+-------------+------------------+------------+----------------+------------+\n",
      "|NULL|     NULL|experience_level|employment_type|           job_title|    NULL|salary_currency|         NULL|employee_residence|        NULL|company_location|company_size|\n",
      "|   0|     2020|              MI|             FT|      Data Scientist|   70000|            EUR|        79833|                DE|           0|              DE|           L|\n",
      "|   1|     2020|              SE|             FT|Machine Learning ...|  260000|            USD|       260000|                JP|           0|              JP|           S|\n",
      "|   2|     2020|              SE|             FT|   Big Data Engineer|   85000|            GBP|       109024|                GB|          50|              GB|           M|\n",
      "|   3|     2020|              MI|             FT|Product Data Analyst|   20000|            USD|        20000|                HN|           0|              HN|           S|\n",
      "|   4|     2020|              SE|             FT|Machine Learning ...|  150000|            USD|       150000|                US|          50|              US|           L|\n",
      "|   5|     2020|              EN|             FT|        Data Analyst|   72000|            USD|        72000|                US|         100|              US|           L|\n",
      "|   6|     2020|              SE|             FT| Lead Data Scientist|  190000|            USD|       190000|                US|         100|              US|           S|\n",
      "|   7|     2020|              MI|             FT|      Data Scientist|11000000|            HUF|        35735|                HU|          50|              HU|           L|\n",
      "|   8|     2020|              MI|             FT|Business Data Ana...|  135000|            USD|       135000|                US|         100|              US|           L|\n",
      "|   9|     2020|              SE|             FT|  Lead Data Engineer|  125000|            USD|       125000|                NZ|          50|              NZ|           S|\n",
      "|  10|     2020|              EN|             FT|      Data Scientist|   45000|            EUR|        51321|                FR|           0|              FR|           S|\n",
      "|  11|     2020|              MI|             FT|      Data Scientist| 3000000|            INR|        40481|                IN|           0|              IN|           L|\n",
      "|  12|     2020|              EN|             FT|      Data Scientist|   35000|            EUR|        39916|                FR|           0|              FR|           M|\n",
      "|  13|     2020|              MI|             FT|   Lead Data Analyst|   87000|            USD|        87000|                US|         100|              US|           L|\n",
      "|  14|     2020|              MI|             FT|        Data Analyst|   85000|            USD|        85000|                US|         100|              US|           L|\n",
      "|  15|     2020|              MI|             FT|        Data Analyst|    8000|            USD|         8000|                PK|          50|              PK|           L|\n",
      "|  16|     2020|              EN|             FT|       Data Engineer| 4450000|            JPY|        41689|                JP|         100|              JP|           S|\n",
      "|  17|     2020|              SE|             FT|   Big Data Engineer|  100000|            EUR|       114047|                PL|         100|              GB|           S|\n",
      "|  18|     2020|              EN|             FT|Data Science Cons...|  423000|            INR|         5707|                IN|          50|              IN|           M|\n",
      "+----+---------+----------------+---------------+--------------------+--------+---------------+-------------+------------------+------------+----------------+------------+\n",
      "only showing top 20 rows\n",
      "\n"
     ]
    }
   ],
   "execution_count": 6
  },
  {
   "cell_type": "markdown",
   "id": "tamil-medium",
   "metadata": {},
   "source": [
    "print data in dataframe using display(df.toPandas())"
   ]
  },
  {
   "cell_type": "code",
   "id": "connected-dryer",
   "metadata": {
    "ExecuteTime": {
     "end_time": "2024-09-30T15:44:22.325878Z",
     "start_time": "2024-09-30T15:44:21.636532Z"
    }
   },
   "source": "display(df3.toPandas())",
   "outputs": [
    {
     "data": {
      "text/plain": [
       "        id  work_year  experience_level  employment_type  \\\n",
       "0      NaN        NaN  experience_level  employment_type   \n",
       "1      0.0     2020.0                MI               FT   \n",
       "2      1.0     2020.0                SE               FT   \n",
       "3      2.0     2020.0                SE               FT   \n",
       "4      3.0     2020.0                MI               FT   \n",
       "..     ...        ...               ...              ...   \n",
       "603  602.0     2022.0                SE               FT   \n",
       "604  603.0     2022.0                SE               FT   \n",
       "605  604.0     2022.0                SE               FT   \n",
       "606  605.0     2022.0                SE               FT   \n",
       "607  606.0     2022.0                MI               FT   \n",
       "\n",
       "                      job_title    salary  salary_currency  salary_in_usd  \\\n",
       "0                     job_title       NaN  salary_currency            NaN   \n",
       "1                Data Scientist   70000.0              EUR        79833.0   \n",
       "2    Machine Learning Scientist  260000.0              USD       260000.0   \n",
       "3             Big Data Engineer   85000.0              GBP       109024.0   \n",
       "4          Product Data Analyst   20000.0              USD        20000.0   \n",
       "..                          ...       ...              ...            ...   \n",
       "603               Data Engineer  154000.0              USD       154000.0   \n",
       "604               Data Engineer  126000.0              USD       126000.0   \n",
       "605                Data Analyst  129000.0              USD       129000.0   \n",
       "606                Data Analyst  150000.0              USD       150000.0   \n",
       "607                AI Scientist  200000.0              USD       200000.0   \n",
       "\n",
       "     employee_residence  remore_ratio  company_location  company_size  \n",
       "0    employee_residence           NaN  company_location  company_size  \n",
       "1                    DE           0.0                DE             L  \n",
       "2                    JP           0.0                JP             S  \n",
       "3                    GB          50.0                GB             M  \n",
       "4                    HN           0.0                HN             S  \n",
       "..                  ...           ...               ...           ...  \n",
       "603                  US         100.0                US             M  \n",
       "604                  US         100.0                US             M  \n",
       "605                  US           0.0                US             M  \n",
       "606                  US         100.0                US             M  \n",
       "607                  IN         100.0                US             L  \n",
       "\n",
       "[608 rows x 12 columns]"
      ],
      "text/html": [
       "<div>\n",
       "<style scoped>\n",
       "    .dataframe tbody tr th:only-of-type {\n",
       "        vertical-align: middle;\n",
       "    }\n",
       "\n",
       "    .dataframe tbody tr th {\n",
       "        vertical-align: top;\n",
       "    }\n",
       "\n",
       "    .dataframe thead th {\n",
       "        text-align: right;\n",
       "    }\n",
       "</style>\n",
       "<table border=\"1\" class=\"dataframe\">\n",
       "  <thead>\n",
       "    <tr style=\"text-align: right;\">\n",
       "      <th></th>\n",
       "      <th>id</th>\n",
       "      <th>work_year</th>\n",
       "      <th>experience_level</th>\n",
       "      <th>employment_type</th>\n",
       "      <th>job_title</th>\n",
       "      <th>salary</th>\n",
       "      <th>salary_currency</th>\n",
       "      <th>salary_in_usd</th>\n",
       "      <th>employee_residence</th>\n",
       "      <th>remore_ratio</th>\n",
       "      <th>company_location</th>\n",
       "      <th>company_size</th>\n",
       "    </tr>\n",
       "  </thead>\n",
       "  <tbody>\n",
       "    <tr>\n",
       "      <th>0</th>\n",
       "      <td>NaN</td>\n",
       "      <td>NaN</td>\n",
       "      <td>experience_level</td>\n",
       "      <td>employment_type</td>\n",
       "      <td>job_title</td>\n",
       "      <td>NaN</td>\n",
       "      <td>salary_currency</td>\n",
       "      <td>NaN</td>\n",
       "      <td>employee_residence</td>\n",
       "      <td>NaN</td>\n",
       "      <td>company_location</td>\n",
       "      <td>company_size</td>\n",
       "    </tr>\n",
       "    <tr>\n",
       "      <th>1</th>\n",
       "      <td>0.0</td>\n",
       "      <td>2020.0</td>\n",
       "      <td>MI</td>\n",
       "      <td>FT</td>\n",
       "      <td>Data Scientist</td>\n",
       "      <td>70000.0</td>\n",
       "      <td>EUR</td>\n",
       "      <td>79833.0</td>\n",
       "      <td>DE</td>\n",
       "      <td>0.0</td>\n",
       "      <td>DE</td>\n",
       "      <td>L</td>\n",
       "    </tr>\n",
       "    <tr>\n",
       "      <th>2</th>\n",
       "      <td>1.0</td>\n",
       "      <td>2020.0</td>\n",
       "      <td>SE</td>\n",
       "      <td>FT</td>\n",
       "      <td>Machine Learning Scientist</td>\n",
       "      <td>260000.0</td>\n",
       "      <td>USD</td>\n",
       "      <td>260000.0</td>\n",
       "      <td>JP</td>\n",
       "      <td>0.0</td>\n",
       "      <td>JP</td>\n",
       "      <td>S</td>\n",
       "    </tr>\n",
       "    <tr>\n",
       "      <th>3</th>\n",
       "      <td>2.0</td>\n",
       "      <td>2020.0</td>\n",
       "      <td>SE</td>\n",
       "      <td>FT</td>\n",
       "      <td>Big Data Engineer</td>\n",
       "      <td>85000.0</td>\n",
       "      <td>GBP</td>\n",
       "      <td>109024.0</td>\n",
       "      <td>GB</td>\n",
       "      <td>50.0</td>\n",
       "      <td>GB</td>\n",
       "      <td>M</td>\n",
       "    </tr>\n",
       "    <tr>\n",
       "      <th>4</th>\n",
       "      <td>3.0</td>\n",
       "      <td>2020.0</td>\n",
       "      <td>MI</td>\n",
       "      <td>FT</td>\n",
       "      <td>Product Data Analyst</td>\n",
       "      <td>20000.0</td>\n",
       "      <td>USD</td>\n",
       "      <td>20000.0</td>\n",
       "      <td>HN</td>\n",
       "      <td>0.0</td>\n",
       "      <td>HN</td>\n",
       "      <td>S</td>\n",
       "    </tr>\n",
       "    <tr>\n",
       "      <th>...</th>\n",
       "      <td>...</td>\n",
       "      <td>...</td>\n",
       "      <td>...</td>\n",
       "      <td>...</td>\n",
       "      <td>...</td>\n",
       "      <td>...</td>\n",
       "      <td>...</td>\n",
       "      <td>...</td>\n",
       "      <td>...</td>\n",
       "      <td>...</td>\n",
       "      <td>...</td>\n",
       "      <td>...</td>\n",
       "    </tr>\n",
       "    <tr>\n",
       "      <th>603</th>\n",
       "      <td>602.0</td>\n",
       "      <td>2022.0</td>\n",
       "      <td>SE</td>\n",
       "      <td>FT</td>\n",
       "      <td>Data Engineer</td>\n",
       "      <td>154000.0</td>\n",
       "      <td>USD</td>\n",
       "      <td>154000.0</td>\n",
       "      <td>US</td>\n",
       "      <td>100.0</td>\n",
       "      <td>US</td>\n",
       "      <td>M</td>\n",
       "    </tr>\n",
       "    <tr>\n",
       "      <th>604</th>\n",
       "      <td>603.0</td>\n",
       "      <td>2022.0</td>\n",
       "      <td>SE</td>\n",
       "      <td>FT</td>\n",
       "      <td>Data Engineer</td>\n",
       "      <td>126000.0</td>\n",
       "      <td>USD</td>\n",
       "      <td>126000.0</td>\n",
       "      <td>US</td>\n",
       "      <td>100.0</td>\n",
       "      <td>US</td>\n",
       "      <td>M</td>\n",
       "    </tr>\n",
       "    <tr>\n",
       "      <th>605</th>\n",
       "      <td>604.0</td>\n",
       "      <td>2022.0</td>\n",
       "      <td>SE</td>\n",
       "      <td>FT</td>\n",
       "      <td>Data Analyst</td>\n",
       "      <td>129000.0</td>\n",
       "      <td>USD</td>\n",
       "      <td>129000.0</td>\n",
       "      <td>US</td>\n",
       "      <td>0.0</td>\n",
       "      <td>US</td>\n",
       "      <td>M</td>\n",
       "    </tr>\n",
       "    <tr>\n",
       "      <th>606</th>\n",
       "      <td>605.0</td>\n",
       "      <td>2022.0</td>\n",
       "      <td>SE</td>\n",
       "      <td>FT</td>\n",
       "      <td>Data Analyst</td>\n",
       "      <td>150000.0</td>\n",
       "      <td>USD</td>\n",
       "      <td>150000.0</td>\n",
       "      <td>US</td>\n",
       "      <td>100.0</td>\n",
       "      <td>US</td>\n",
       "      <td>M</td>\n",
       "    </tr>\n",
       "    <tr>\n",
       "      <th>607</th>\n",
       "      <td>606.0</td>\n",
       "      <td>2022.0</td>\n",
       "      <td>MI</td>\n",
       "      <td>FT</td>\n",
       "      <td>AI Scientist</td>\n",
       "      <td>200000.0</td>\n",
       "      <td>USD</td>\n",
       "      <td>200000.0</td>\n",
       "      <td>IN</td>\n",
       "      <td>100.0</td>\n",
       "      <td>US</td>\n",
       "      <td>L</td>\n",
       "    </tr>\n",
       "  </tbody>\n",
       "</table>\n",
       "<p>608 rows × 12 columns</p>\n",
       "</div>"
      ]
     },
     "metadata": {},
     "output_type": "display_data"
    }
   ],
   "execution_count": 8
  },
  {
   "cell_type": "markdown",
   "id": "opponent-gazette",
   "metadata": {},
   "source": [
    "create df_job_title that consists from all job_titles without duplicates"
   ]
  },
  {
   "cell_type": "code",
   "id": "friendly-cartridge",
   "metadata": {
    "ExecuteTime": {
     "end_time": "2024-09-30T15:56:49.405292Z",
     "start_time": "2024-09-30T15:56:49.382780Z"
    }
   },
   "source": [
    "df_3_stable = df3.exceptAll(df3.limit(1))\n",
    "df_job_title = df_3_stable.select(\"job_title\").distinct()"
   ],
   "outputs": [],
   "execution_count": 14
  },
  {
   "cell_type": "markdown",
   "id": "offshore-architecture",
   "metadata": {},
   "source": [
    "print all rows from df_job_titles without truncating jobs"
   ]
  },
  {
   "cell_type": "code",
   "id": "asian-edition",
   "metadata": {
    "ExecuteTime": {
     "end_time": "2024-09-30T15:56:51.720766Z",
     "start_time": "2024-09-30T15:56:50.827590Z"
    }
   },
   "source": "df_job_title.show(df_job_title.count(), truncate=False)",
   "outputs": [
    {
     "name": "stdout",
     "output_type": "stream",
     "text": [
      "+----------------------------------------+\n",
      "|job_title                               |\n",
      "+----------------------------------------+\n",
      "|3D Computer Vision Researcher           |\n",
      "|Lead Data Engineer                      |\n",
      "|Head of Machine Learning                |\n",
      "|Data Specialist                         |\n",
      "|Data Analytics Lead                     |\n",
      "|Machine Learning Scientist              |\n",
      "|Lead Data Analyst                       |\n",
      "|Data Engineering Manager                |\n",
      "|Staff Data Scientist                    |\n",
      "|ETL Developer                           |\n",
      "|Director of Data Engineering            |\n",
      "|Product Data Analyst                    |\n",
      "|Principal Data Scientist                |\n",
      "|AI Scientist                            |\n",
      "|Director of Data Science                |\n",
      "|Machine Learning Engineer               |\n",
      "|Lead Data Scientist                     |\n",
      "|Machine Learning Infrastructure Engineer|\n",
      "|Data Science Engineer                   |\n",
      "|Machine Learning Manager                |\n",
      "|Research Scientist                      |\n",
      "|Head of Data                            |\n",
      "|Cloud Data Engineer                     |\n",
      "|Machine Learning Developer              |\n",
      "|Data Scientist                          |\n",
      "|Finance Data Analyst                    |\n",
      "|Data Analyst                            |\n",
      "|Data Analytics Engineer                 |\n",
      "|Data Science Consultant                 |\n",
      "|Principal Data Engineer                 |\n",
      "|Lead Machine Learning Engineer          |\n",
      "|ML Engineer                             |\n",
      "|Analytics Engineer                      |\n",
      "|Data Science Manager                    |\n",
      "|Business Data Analyst                   |\n",
      "|Principal Data Analyst                  |\n",
      "|Applied Machine Learning Scientist      |\n",
      "|Data Analytics Manager                  |\n",
      "|Financial Data Analyst                  |\n",
      "|Computer Vision Engineer                |\n",
      "|Computer Vision Software Engineer       |\n",
      "|Big Data Engineer                       |\n",
      "|Head of Data Science                    |\n",
      "|NLP Engineer                            |\n",
      "|Big Data Architect                      |\n",
      "|Applied Data Scientist                  |\n",
      "|Data Architect                          |\n",
      "|BI Data Analyst                         |\n",
      "|Marketing Data Analyst                  |\n",
      "|Data Engineer                           |\n",
      "+----------------------------------------+\n",
      "\n"
     ]
    }
   ],
   "execution_count": 15
  },
  {
   "cell_type": "markdown",
   "id": "interim-pharmacy",
   "metadata": {},
   "source": [
    "create  df_analytic that will consists from max, avg, min USD salaries for all job_titles using groupBy. name of fields is avg_salary, min_salary, max_salary"
   ]
  },
  {
   "cell_type": "code",
   "id": "naval-roller",
   "metadata": {
    "ExecuteTime": {
     "end_time": "2024-09-30T16:26:34.143721Z",
     "start_time": "2024-09-30T16:26:34.117347Z"
    }
   },
   "source": [
    "df_analytic = df_3_stable.groupBy('job_title').agg(\n",
    "    max('salary_in_usd').alias('max_salary'),\n",
    "    min('salary_in_usd').alias('min_salary'),\n",
    "    avg('salary_in_usd').alias('avg_salary')\n",
    ")"
   ],
   "outputs": [],
   "execution_count": 31
  },
  {
   "cell_type": "markdown",
   "id": "french-pledge",
   "metadata": {},
   "source": [
    "print all rows from df_analytic without trancating jobs"
   ]
  },
  {
   "cell_type": "code",
   "id": "bacterial-depression",
   "metadata": {
    "ExecuteTime": {
     "end_time": "2024-09-30T16:26:38.352461Z",
     "start_time": "2024-09-30T16:26:37.436749Z"
    }
   },
   "source": "df_analytic.show(df_analytic.count(), truncate=False)",
   "outputs": [
    {
     "name": "stdout",
     "output_type": "stream",
     "text": [
      "+----------------------------------------+----------+----------+------------------+\n",
      "|job_title                               |max_salary|min_salary|avg_salary        |\n",
      "+----------------------------------------+----------+----------+------------------+\n",
      "|3D Computer Vision Researcher           |5409      |5409      |5409.0            |\n",
      "|Lead Data Engineer                      |276000    |56000     |139724.5          |\n",
      "|Head of Machine Learning                |79039     |79039     |79039.0           |\n",
      "|Data Specialist                         |165000    |165000    |165000.0          |\n",
      "|Data Analytics Lead                     |405000    |405000    |405000.0          |\n",
      "|Machine Learning Scientist              |260000    |12000     |158412.5          |\n",
      "|Lead Data Analyst                       |170000    |19609     |92203.0           |\n",
      "|Data Engineering Manager                |174000    |59303     |123227.2          |\n",
      "|Staff Data Scientist                    |105000    |105000    |105000.0          |\n",
      "|ETL Developer                           |54957     |54957     |54957.0           |\n",
      "|Director of Data Engineering            |200000    |113476    |156738.0          |\n",
      "|Product Data Analyst                    |20000     |6072      |13036.0           |\n",
      "|Principal Data Scientist                |416000    |148261    |215242.42857142858|\n",
      "|AI Scientist                            |200000    |12000     |66135.57142857143 |\n",
      "|Director of Data Science                |325000    |130026    |195074.0          |\n",
      "|Machine Learning Engineer               |250000    |20000     |104880.14634146342|\n",
      "|Lead Data Scientist                     |190000    |40570     |115190.0          |\n",
      "|Machine Learning Infrastructure Engineer|195000    |50180     |101145.0          |\n",
      "|Data Science Engineer                   |127221    |40189     |75803.33333333333 |\n",
      "|Machine Learning Manager                |117104    |117104    |117104.0          |\n",
      "|Research Scientist                      |450000    |42000     |109019.5          |\n",
      "|Head of Data                            |235000    |32974     |160162.6          |\n",
      "|Cloud Data Engineer                     |160000    |89294     |124647.0          |\n",
      "|Machine Learning Developer              |100000    |78791     |85860.66666666667 |\n",
      "|Data Scientist                          |412000    |2859      |108187.83216783217|\n",
      "|Finance Data Analyst                    |61896     |61896     |61896.0           |\n",
      "|Data Analyst                            |200000    |6072      |92893.06185567011 |\n",
      "|Data Analytics Engineer                 |110000    |20000     |64799.25          |\n",
      "|Data Science Consultant                 |103000    |5707      |69420.71428571429 |\n",
      "|Principal Data Engineer                 |600000    |185000    |328333.3333333333 |\n",
      "|Lead Machine Learning Engineer          |87932     |87932     |87932.0           |\n",
      "|ML Engineer                             |270000    |15966     |117504.0          |\n",
      "|Analytics Engineer                      |205300    |135000    |175000.0          |\n",
      "|Data Science Manager                    |241000    |54094     |158328.5          |\n",
      "|Business Data Analyst                   |135000    |18442     |76691.2           |\n",
      "|Principal Data Analyst                  |170000    |75000     |122500.0          |\n",
      "|Applied Machine Learning Scientist      |423000    |31875     |142068.75         |\n",
      "|Data Analytics Manager                  |150260    |105400    |127134.28571428571|\n",
      "|Financial Data Analyst                  |450000    |100000    |275000.0          |\n",
      "|Computer Vision Engineer                |125000    |10000     |44419.333333333336|\n",
      "|Computer Vision Software Engineer       |150000    |70000     |105248.66666666667|\n",
      "|Big Data Engineer                       |114047    |5882      |51974.0           |\n",
      "|Head of Data Science                    |224000    |85000     |146718.75         |\n",
      "|NLP Engineer                            |37236     |37236     |37236.0           |\n",
      "|Big Data Architect                      |99703     |99703     |99703.0           |\n",
      "|Applied Data Scientist                  |380000    |54238     |175655.0          |\n",
      "|Data Architect                          |266400    |90700     |177873.9090909091 |\n",
      "|BI Data Analyst                         |150000    |9272      |74755.16666666667 |\n",
      "|Marketing Data Analyst                  |88654     |88654     |88654.0           |\n",
      "|Data Engineer                           |324000    |4000      |112725.0          |\n",
      "+----------------------------------------+----------+----------+------------------+\n",
      "\n"
     ]
    }
   ],
   "execution_count": 32
  },
  {
   "cell_type": "markdown",
   "id": "hazardous-color",
   "metadata": {},
   "source": [
    "now you need to add in df_analytic column row_id, that will show order of all job_titles depending on avg salary. they should be descending"
   ]
  },
  {
   "cell_type": "code",
   "id": "nearby-treasurer",
   "metadata": {
    "ExecuteTime": {
     "end_time": "2024-09-30T16:26:42.343085Z",
     "start_time": "2024-09-30T16:26:42.324203Z"
    }
   },
   "source": [
    "window_spec = Window.orderBy(col('avg_salary').desc())\n",
    "df_analytic = df_analytic.withColumn('row_id', row_number().over(window_spec))"
   ],
   "outputs": [],
   "execution_count": 33
  },
  {
   "cell_type": "markdown",
   "id": "documented-catalog",
   "metadata": {},
   "source": [
    "print all data from df_analytic"
   ]
  },
  {
   "cell_type": "code",
   "id": "confirmed-monitoring",
   "metadata": {
    "ExecuteTime": {
     "end_time": "2024-09-30T16:26:48.541867Z",
     "start_time": "2024-09-30T16:26:47.730158Z"
    }
   },
   "source": "df_analytic.show(df_analytic.count(), truncate=False)",
   "outputs": [
    {
     "name": "stdout",
     "output_type": "stream",
     "text": [
      "+----------------------------------------+----------+----------+------------------+------+\n",
      "|job_title                               |max_salary|min_salary|avg_salary        |row_id|\n",
      "+----------------------------------------+----------+----------+------------------+------+\n",
      "|Data Analytics Lead                     |405000    |405000    |405000.0          |1     |\n",
      "|Principal Data Engineer                 |600000    |185000    |328333.3333333333 |2     |\n",
      "|Financial Data Analyst                  |450000    |100000    |275000.0          |3     |\n",
      "|Principal Data Scientist                |416000    |148261    |215242.42857142858|4     |\n",
      "|Director of Data Science                |325000    |130026    |195074.0          |5     |\n",
      "|Data Architect                          |266400    |90700     |177873.9090909091 |6     |\n",
      "|Applied Data Scientist                  |380000    |54238     |175655.0          |7     |\n",
      "|Analytics Engineer                      |205300    |135000    |175000.0          |8     |\n",
      "|Data Specialist                         |165000    |165000    |165000.0          |9     |\n",
      "|Head of Data                            |235000    |32974     |160162.6          |10    |\n",
      "|Machine Learning Scientist              |260000    |12000     |158412.5          |11    |\n",
      "|Data Science Manager                    |241000    |54094     |158328.5          |12    |\n",
      "|Director of Data Engineering            |200000    |113476    |156738.0          |13    |\n",
      "|Head of Data Science                    |224000    |85000     |146718.75         |14    |\n",
      "|Applied Machine Learning Scientist      |423000    |31875     |142068.75         |15    |\n",
      "|Lead Data Engineer                      |276000    |56000     |139724.5          |16    |\n",
      "|Data Analytics Manager                  |150260    |105400    |127134.28571428571|17    |\n",
      "|Cloud Data Engineer                     |160000    |89294     |124647.0          |18    |\n",
      "|Data Engineering Manager                |174000    |59303     |123227.2          |19    |\n",
      "|Principal Data Analyst                  |170000    |75000     |122500.0          |20    |\n",
      "|ML Engineer                             |270000    |15966     |117504.0          |21    |\n",
      "|Machine Learning Manager                |117104    |117104    |117104.0          |22    |\n",
      "|Lead Data Scientist                     |190000    |40570     |115190.0          |23    |\n",
      "|Data Engineer                           |324000    |4000      |112725.0          |24    |\n",
      "|Research Scientist                      |450000    |42000     |109019.5          |25    |\n",
      "|Data Scientist                          |412000    |2859      |108187.83216783217|26    |\n",
      "|Computer Vision Software Engineer       |150000    |70000     |105248.66666666667|27    |\n",
      "|Staff Data Scientist                    |105000    |105000    |105000.0          |28    |\n",
      "|Machine Learning Engineer               |250000    |20000     |104880.14634146342|29    |\n",
      "|Machine Learning Infrastructure Engineer|195000    |50180     |101145.0          |30    |\n",
      "|Big Data Architect                      |99703     |99703     |99703.0           |31    |\n",
      "|Data Analyst                            |200000    |6072      |92893.06185567011 |32    |\n",
      "|Lead Data Analyst                       |170000    |19609     |92203.0           |33    |\n",
      "|Marketing Data Analyst                  |88654     |88654     |88654.0           |34    |\n",
      "|Lead Machine Learning Engineer          |87932     |87932     |87932.0           |35    |\n",
      "|Machine Learning Developer              |100000    |78791     |85860.66666666667 |36    |\n",
      "|Head of Machine Learning                |79039     |79039     |79039.0           |37    |\n",
      "|Business Data Analyst                   |135000    |18442     |76691.2           |38    |\n",
      "|Data Science Engineer                   |127221    |40189     |75803.33333333333 |39    |\n",
      "|BI Data Analyst                         |150000    |9272      |74755.16666666667 |40    |\n",
      "|Data Science Consultant                 |103000    |5707      |69420.71428571429 |41    |\n",
      "|AI Scientist                            |200000    |12000     |66135.57142857143 |42    |\n",
      "|Data Analytics Engineer                 |110000    |20000     |64799.25          |43    |\n",
      "|Finance Data Analyst                    |61896     |61896     |61896.0           |44    |\n",
      "|ETL Developer                           |54957     |54957     |54957.0           |45    |\n",
      "|Big Data Engineer                       |114047    |5882      |51974.0           |46    |\n",
      "|Computer Vision Engineer                |125000    |10000     |44419.333333333336|47    |\n",
      "|NLP Engineer                            |37236     |37236     |37236.0           |48    |\n",
      "|Product Data Analyst                    |20000     |6072      |13036.0           |49    |\n",
      "|3D Computer Vision Researcher           |5409      |5409      |5409.0            |50    |\n",
      "+----------------------------------------+----------+----------+------------------+------+\n",
      "\n"
     ]
    }
   ],
   "execution_count": 34
  },
  {
   "cell_type": "markdown",
   "id": "satellite-quarter",
   "metadata": {},
   "source": [
    "it isn't beautifull, so we need to put now row_id on first place in df_analytic"
   ]
  },
  {
   "cell_type": "code",
   "id": "ranging-tribune",
   "metadata": {
    "ExecuteTime": {
     "end_time": "2024-09-30T15:07:15.402702Z",
     "start_time": "2024-09-30T15:07:15.400809Z"
    }
   },
   "source": [],
   "outputs": [],
   "execution_count": 13
  },
  {
   "cell_type": "markdown",
   "id": "reliable-amsterdam",
   "metadata": {},
   "source": [
    "print df_analytic now"
   ]
  },
  {
   "cell_type": "code",
   "id": "classical-biology",
   "metadata": {
    "ExecuteTime": {
     "end_time": "2024-09-30T15:07:15.405668Z",
     "start_time": "2024-09-30T15:07:15.403702Z"
    }
   },
   "source": [],
   "outputs": [],
   "execution_count": 13
  },
  {
   "cell_type": "markdown",
   "id": "hybrid-queensland",
   "metadata": {},
   "source": [
    "here you need to create df_exp_lvl with the biggest usd_salary(biggest_salary) for each experience_level(you need to save all fields like in entire dataframe)"
   ]
  },
  {
   "cell_type": "code",
   "id": "dental-wrist",
   "metadata": {
    "ExecuteTime": {
     "end_time": "2024-09-30T15:07:15.409599Z",
     "start_time": "2024-09-30T15:07:15.406670Z"
    }
   },
   "source": [],
   "outputs": [],
   "execution_count": 13
  },
  {
   "cell_type": "markdown",
   "id": "innovative-hierarchy",
   "metadata": {},
   "source": [
    "print here df_exp_lvl"
   ]
  },
  {
   "cell_type": "code",
   "id": "standing-toilet",
   "metadata": {
    "ExecuteTime": {
     "end_time": "2024-09-30T15:07:15.412618Z",
     "start_time": "2024-09-30T15:07:15.410596Z"
    }
   },
   "source": [],
   "outputs": [],
   "execution_count": 13
  },
  {
   "cell_type": "markdown",
   "id": "hawaiian-mortgage",
   "metadata": {},
   "source": [
    "create df_best that consists from rows where salary of guy same as biggest salary for other people in his exp_lvl and choose only columns: id, experience_level, biggest_salary, employee_residence"
   ]
  },
  {
   "cell_type": "code",
   "id": "toxic-prompt",
   "metadata": {
    "ExecuteTime": {
     "end_time": "2024-09-30T15:07:15.415706Z",
     "start_time": "2024-09-30T15:07:15.413614Z"
    }
   },
   "source": [],
   "outputs": [],
   "execution_count": 13
  },
  {
   "cell_type": "markdown",
   "id": "complex-librarian",
   "metadata": {},
   "source": [
    "print df_best"
   ]
  },
  {
   "cell_type": "code",
   "id": "smart-texas",
   "metadata": {
    "ExecuteTime": {
     "end_time": "2024-09-30T15:07:15.419401Z",
     "start_time": "2024-09-30T15:07:15.416703Z"
    }
   },
   "source": [],
   "outputs": [],
   "execution_count": 13
  },
  {
   "cell_type": "markdown",
   "id": "integral-brass",
   "metadata": {},
   "source": [
    "drop duplicates if exist by experience_level"
   ]
  },
  {
   "cell_type": "code",
   "id": "immune-marine",
   "metadata": {
    "ExecuteTime": {
     "end_time": "2024-09-30T15:07:15.422955Z",
     "start_time": "2024-09-30T15:07:15.420402Z"
    }
   },
   "source": [],
   "outputs": [],
   "execution_count": 13
  },
  {
   "cell_type": "markdown",
   "id": "connected-credit",
   "metadata": {},
   "source": [
    "print df_best"
   ]
  },
  {
   "cell_type": "code",
   "id": "specified-wellington",
   "metadata": {
    "ExecuteTime": {
     "end_time": "2024-09-30T15:07:15.426805Z",
     "start_time": "2024-09-30T15:07:15.424329Z"
    }
   },
   "source": [],
   "outputs": [],
   "execution_count": 13
  },
  {
   "cell_type": "markdown",
   "id": "facial-plant",
   "metadata": {},
   "source": [
    "create df_new_best from df_best without id, and make the next: when exp_level = MI we want middle, when SE we want senior, else Null"
   ]
  },
  {
   "cell_type": "code",
   "id": "infinite-retail",
   "metadata": {
    "ExecuteTime": {
     "end_time": "2024-09-30T15:07:15.508027Z",
     "start_time": "2024-09-30T15:07:15.505360Z"
    }
   },
   "source": [],
   "outputs": [],
   "execution_count": 13
  },
  {
   "cell_type": "markdown",
   "id": "changing-fairy",
   "metadata": {},
   "source": [
    "print df_new_best"
   ]
  },
  {
   "cell_type": "code",
   "id": "endless-framework",
   "metadata": {
    "ExecuteTime": {
     "end_time": "2024-09-30T15:07:15.597177Z",
     "start_time": "2024-09-30T15:07:15.594309Z"
    }
   },
   "source": [],
   "outputs": [],
   "execution_count": 13
  },
  {
   "cell_type": "markdown",
   "id": "mineral-status",
   "metadata": {},
   "source": [
    "write df_new_best like 1.csv and load then it to df_final"
   ]
  },
  {
   "cell_type": "code",
   "id": "baking-progress",
   "metadata": {
    "ExecuteTime": {
     "end_time": "2024-09-30T15:07:15.765230Z",
     "start_time": "2024-09-30T15:07:15.762330Z"
    }
   },
   "source": [],
   "outputs": [],
   "execution_count": 13
  },
  {
   "cell_type": "markdown",
   "id": "vocal-shooting",
   "metadata": {},
   "source": [
    "print df_final"
   ]
  },
  {
   "cell_type": "code",
   "id": "expired-viewer",
   "metadata": {
    "ExecuteTime": {
     "end_time": "2024-09-30T15:07:15.795050Z",
     "start_time": "2024-09-30T15:07:15.792506Z"
    }
   },
   "source": [],
   "outputs": [],
   "execution_count": 13
  },
  {
   "cell_type": "markdown",
   "id": "nutritional-progress",
   "metadata": {},
   "source": [
    "filter df_final to delete experience_level where it Null, then join this table by biggest_salary(salary_in_usd) and employee_residence with entire df"
   ]
  },
  {
   "cell_type": "code",
   "id": "small-polymer",
   "metadata": {
    "ExecuteTime": {
     "end_time": "2024-09-30T15:07:15.808017Z",
     "start_time": "2024-09-30T15:07:15.805301Z"
    }
   },
   "source": [],
   "outputs": [],
   "execution_count": 13
  },
  {
   "cell_type": "markdown",
   "id": "variable-twins",
   "metadata": {},
   "source": [
    "print df_final"
   ]
  },
  {
   "cell_type": "code",
   "id": "generic-block",
   "metadata": {
    "ExecuteTime": {
     "end_time": "2024-09-30T15:07:15.845426Z",
     "start_time": "2024-09-30T15:07:15.842548Z"
    }
   },
   "source": [],
   "outputs": [],
   "execution_count": 13
  },
  {
   "cell_type": "markdown",
   "id": "variable-moore",
   "metadata": {},
   "source": [
    "last task is to save in variable and then print this variable of the biggest salary_in_usd from df_final"
   ]
  },
  {
   "cell_type": "code",
   "id": "individual-institution",
   "metadata": {
    "ExecuteTime": {
     "end_time": "2024-09-30T15:07:15.862484Z",
     "start_time": "2024-09-30T15:07:15.859463Z"
    }
   },
   "source": [],
   "outputs": [],
   "execution_count": 13
  },
  {
   "cell_type": "markdown",
   "id": "stopped-procedure",
   "metadata": {},
   "source": [
    "It is the end of PySpark basics. In other lessons you will learn optimizations technics and how to make distributed system"
   ]
  }
 ],
 "metadata": {
  "kernelspec": {
   "display_name": "Python 3",
   "language": "python",
   "name": "python3"
  },
  "language_info": {
   "codemirror_mode": {
    "name": "ipython",
    "version": 3
   },
   "file_extension": ".py",
   "mimetype": "text/x-python",
   "name": "python",
   "nbconvert_exporter": "python",
   "pygments_lexer": "ipython3",
   "version": "3.9.2"
  }
 },
 "nbformat": 4,
 "nbformat_minor": 5
}
